{
 "cells": [
  {
   "cell_type": "code",
   "execution_count": 1,
   "metadata": {},
   "outputs": [],
   "source": [
    "import doctest\n",
    "import unittest\n",
    "import sys"
   ]
  },
  {
   "cell_type": "code",
   "execution_count": 2,
   "metadata": {},
   "outputs": [],
   "source": [
    "def is_palindrome(s):\n",
    "    '''\n",
    "    >>> is_palindrome(\"\")\n",
    "    True\n",
    "    >>> is_palindrome(\"a\")\n",
    "    True\n",
    "    >>> is_palindrome(\"aa\")\n",
    "    True\n",
    "    >>> is_palindrome(\"aaa\")\n",
    "    True\n",
    "    >>> is_palindrome(\"aaaa\")\n",
    "    True\n",
    "    >>> is_palindrome(\"aba\")\n",
    "    True\n",
    "    >>> is_palindrome(\"abba\")\n",
    "    True\n",
    "    >>> is_palindrome(\"abbba\")\n",
    "    True\n",
    "    >>> is_palindrome(\"abbbba\")\n",
    "    True\n",
    "    >>> is_palindrome(\"a a\")\n",
    "    True\n",
    "    >>> is_palindrome(\"a  a\")\n",
    "    True\n",
    "    >>> is_palindrome(\"a   a   a\")\n",
    "    True\n",
    "    >>> is_palindrome(\"a     a  a\")\n",
    "    True\n",
    "    >>> is_palindrome(\"a              aa\")\n",
    "    True\n",
    "    >>> is_palindrome(\"racecar\")\n",
    "    True\n",
    "    >>> is_palindrome(\"race car\")\n",
    "    True\n",
    "    >>> is_palindrome(\"aab\")\n",
    "    False\n",
    "    >>> is_palindrome(\"aaab\")\n",
    "    False\n",
    "    >>> is_palindrome(\"aaaab\")\n",
    "    False\n",
    "    '''\n",
    "    s = s.replace(' ', '').lower()\n",
    "    return s == s[::-1]"
   ]
  },
  {
   "cell_type": "code",
   "execution_count": 3,
   "metadata": {},
   "outputs": [
    {
     "data": {
      "text/plain": [
       "TestResults(failed=0, attempted=19)"
      ]
     },
     "execution_count": 3,
     "metadata": {},
     "output_type": "execute_result"
    }
   ],
   "source": [
    "doctest.testmod()"
   ]
  },
  {
   "cell_type": "code",
   "execution_count": 4,
   "metadata": {},
   "outputs": [
    {
     "name": "stderr",
     "output_type": "stream",
     "text": [
      ".....\n",
      "----------------------------------------------------------------------\n",
      "Ran 5 tests in 0.004s\n",
      "\n",
      "OK\n"
     ]
    },
    {
     "data": {
      "text/plain": [
       "<unittest.runner.TextTestResult run=5 errors=0 failures=0>"
      ]
     },
     "execution_count": 4,
     "metadata": {},
     "output_type": "execute_result"
    }
   ],
   "source": [
    "tests = doctest.DocTestSuite(sys.modules[__name__])\n",
    "\n",
    "class TestPalindromeWithCapitals(unittest.TestCase):\n",
    "    def test_capitalized_palindrome(self):\n",
    "        self.assertEqual(is_palindrome(\"AAA\"), True)\n",
    "        \n",
    "    def test_capitalized_non_palindrome(self):\n",
    "        self.assertEqual(is_palindrome(\"AABA\"), False)\n",
    "        \n",
    "    def test_mixed_palindrome(self):\n",
    "        self.assertEqual(is_palindrome(\"AAa\"), True)\n",
    "        \n",
    "    def test_mixed_non_palindrome(self):\n",
    "        self.assertEqual(is_palindrome(\"AaBa\"), False)\n",
    "\n",
    "tests.addTest(unittest.makeSuite(TestPalindromeWithCapitals))\n",
    "\n",
    "unittest.TextTestRunner().run(tests)"
   ]
  }
 ],
 "metadata": {
  "kernelspec": {
   "display_name": "Python 3.10.9 64-bit",
   "language": "python",
   "name": "python3"
  },
  "language_info": {
   "codemirror_mode": {
    "name": "ipython",
    "version": 3
   },
   "file_extension": ".py",
   "mimetype": "text/x-python",
   "name": "python",
   "nbconvert_exporter": "python",
   "pygments_lexer": "ipython3",
   "version": "3.10.9"
  },
  "orig_nbformat": 4,
  "vscode": {
   "interpreter": {
    "hash": "e7370f93d1d0cde622a1f8e1c04877d8463912d04d973331ad4851f04de6915a"
   }
  }
 },
 "nbformat": 4,
 "nbformat_minor": 2
}
